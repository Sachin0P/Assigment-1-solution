{
  "nbformat": 4,
  "nbformat_minor": 0,
  "metadata": {
    "colab": {
      "provenance": [],
      "authorship_tag": "ABX9TyMCJDNZPapI/ODAnmD3hZ/p",
      "include_colab_link": true
    },
    "kernelspec": {
      "name": "python3",
      "display_name": "Python 3"
    },
    "language_info": {
      "name": "python"
    }
  },
  "cells": [
    {
      "cell_type": "markdown",
      "metadata": {
        "id": "view-in-github",
        "colab_type": "text"
      },
      "source": [
        "<a href=\"https://colab.research.google.com/github/Sachin0P/Assigment-1-solution/blob/main/solution_of_assigment_1.ipynb\" target=\"_parent\"><img src=\"https://colab.research.google.com/assets/colab-badge.svg\" alt=\"Open In Colab\"/></a>"
      ]
    },
    {
      "cell_type": "markdown",
      "source": [
        "question 1"
      ],
      "metadata": {
        "id": "aSjQg_NhQvZh"
      }
    },
    {
      "cell_type": "code",
      "source": [
        "L=[11,12,13,14]\n",
        "L.append(50)\n",
        "L.append(60)\n",
        "print('the new list after addition ',L)\n",
        "del L[0]\n",
        "del L[1]\n",
        "print('the new list after delete ',L)\n",
        "L.sort(reverse=True)\n",
        "print('decending order ',L)\n",
        "L.sort()\n",
        "print('asending order ',L)\n",
        "L=[11,12,13,14]\n",
        "\n",
        "if 13 in L:\n",
        "    print('present')\n",
        "\n",
        "j=0\n",
        "for i in L:\n",
        "    j=j+1\n",
        "print('the count is ',j)\n",
        "\n",
        "a=0\n",
        "for i in L:\n",
        "    a=a+i\n",
        "print('the sum is ',a)\n",
        "a=0\n",
        "for i in L:\n",
        "    if i%2==0:\n",
        "        a=a+i\n",
        "print('su of even number ',a)\n",
        "a=0\n",
        "for i in L:\n",
        "    if not(i%2==0):\n",
        "        a=a+i\n",
        "print('sum of odd number ',a)\n",
        "L=[11,12,13,14]\n",
        "\n",
        "a=0\n",
        "for i in L:\n",
        "  f=0\n",
        "  for j in range(2,i):\n",
        "    if i%j==0:\n",
        "      f=1\n",
        "  if f==0:\n",
        "    a=a+i\n",
        "print('sum of prime is ',a)\n",
        "for i in range(0,len(L)):\n",
        "    del L[0]\n",
        "print(L)\n",
        "L=[11,12,13,14]\n",
        "L.clear()\n",
        "print(L)\n",
        "del L"
      ],
      "metadata": {
        "id": "t-vl_UXzQx-G",
        "colab": {
          "base_uri": "https://localhost:8080/"
        },
        "outputId": "d1138f5a-6e7f-4de2-a83f-d4d1391afdae"
      },
      "execution_count": null,
      "outputs": [
        {
          "output_type": "stream",
          "name": "stdout",
          "text": [
            "the new list after addition  [11, 12, 13, 14, 50, 60]\n",
            "the new list after delete  [12, 14, 50, 60]\n",
            "decending order  [60, 50, 14, 12]\n",
            "asending order  [12, 14, 50, 60]\n",
            "present\n",
            "the count is  4\n",
            "the sum is  50\n",
            "su of even number  26\n",
            "sum of odd number  24\n",
            "sum of prime is  24\n",
            "[]\n",
            "[]\n"
          ]
        }
      ]
    },
    {
      "cell_type": "markdown",
      "source": [
        "question 2\n"
      ],
      "metadata": {
        "id": "FklBgYImQFy5"
      }
    },
    {
      "cell_type": "code",
      "source": [
        "D={1:5.6,2:7.8,3:6.6,4:8.8,5:7.7}\n",
        "D[8]=8.8\n",
        "print('the dic after addition ',D)\n",
        "del D[2]\n",
        "print('the dic after del ',D)\n",
        "print(6 in D)\n",
        "count=0\n",
        "for i in D:\n",
        "  count=count+1\n",
        "print(count)\n",
        "a=0\n",
        "for i in D:\n",
        "  a=a+D[i]\n",
        "print(a)\n",
        "\n",
        "D[3]=7.1\n",
        "print(D)\n",
        "D.clear()\n",
        "print(D)"
      ],
      "metadata": {
        "colab": {
          "base_uri": "https://localhost:8080/"
        },
        "id": "30hl7HboQIBV",
        "outputId": "a8b68b56-2222-4120-b304-b0186e7d0a99"
      },
      "execution_count": null,
      "outputs": [
        {
          "output_type": "stream",
          "name": "stdout",
          "text": [
            "the dic after addition  {1: 5.6, 2: 7.8, 3: 6.6, 4: 8.8, 5: 7.7, 8: 8.8}\n",
            "the dic after del  {1: 5.6, 3: 6.6, 4: 8.8, 5: 7.7, 8: 8.8}\n",
            "False\n",
            "5\n",
            "37.5\n",
            "{1: 5.6, 3: 7.1, 4: 8.8, 5: 7.7, 8: 8.8}\n",
            "{}\n"
          ]
        }
      ]
    },
    {
      "cell_type": "markdown",
      "source": [
        "question 3"
      ],
      "metadata": {
        "id": "FhzAQhtqqHtR"
      }
    },
    {
      "cell_type": "code",
      "source": [
        "S1=set([10,20,30,40,50,60])\n",
        "S2=set([40,50,60,70,80,90])\n",
        "S1.add(55)\n",
        "S1.add(66)\n",
        "print(S1)\n",
        "S1.remove(10)\n",
        "S1.remove(30)\n",
        "print(S1)\n",
        "print(\"the union\",S1.union(S2))\n",
        "print('the intersection',S1.intersection(S2))\n",
        "print('S1-S2',S1-S2)\n"
      ],
      "metadata": {
        "colab": {
          "base_uri": "https://localhost:8080/"
        },
        "id": "eNHeJU3wqJSo",
        "outputId": "de143d8c-ea35-46a4-f1e6-d3461aab842d"
      },
      "execution_count": null,
      "outputs": [
        {
          "output_type": "stream",
          "name": "stdout",
          "text": [
            "{66, 40, 10, 50, 20, 55, 60, 30}\n",
            "{66, 40, 50, 20, 55, 60}\n",
            "the union {66, 70, 40, 80, 50, 20, 55, 90, 60}\n",
            "the intersection {40, 50, 60}\n",
            "S1-S2 {66, 20, 55}\n"
          ]
        }
      ]
    },
    {
      "cell_type": "markdown",
      "source": [
        "question 4"
      ],
      "metadata": {
        "id": "-BB029U6Q1lf"
      }
    },
    {
      "cell_type": "code",
      "source": [
        "import random as r\n",
        "import string as s\n",
        "print('part i')\n",
        "for u in range(1,101):\n",
        "  c=r.randint(6, 8)\n",
        "  a=\"\".join(r.sample(s.ascii_letters,c))\n",
        "  print(a)\n",
        "\n",
        "\n",
        "print('part ii')\n",
        "for i in range(600,801):\n",
        "    f=0\n",
        "    for j in range(2,i//2 + 1):\n",
        "        if i%j==0:\n",
        "            f=1\n",
        "    if f==0:\n",
        "        print(i)\n",
        "print('part iii')\n",
        "for i in range(100,1001):\n",
        "  if i%7==0 and i%9==0:\n",
        "    print(i)"
      ],
      "metadata": {
        "id": "0eRRwSpiQ3yd",
        "colab": {
          "base_uri": "https://localhost:8080/"
        },
        "outputId": "af846313-9ada-4692-c20e-d5976364638a"
      },
      "execution_count": null,
      "outputs": [
        {
          "output_type": "stream",
          "name": "stdout",
          "text": [
            "part i\n",
            "LAeozgmn\n",
            "pUaQZW\n",
            "LrmjZo\n",
            "MEgnTr\n",
            "pVvPeNX\n",
            "KOoPQEq\n",
            "ILztEmS\n",
            "GwnTvShk\n",
            "jVHpgewC\n",
            "XWkQqz\n",
            "VQWgAI\n",
            "TmkZSsu\n",
            "qSCtznv\n",
            "TwnIhVxP\n",
            "EKVxBL\n",
            "nmpNTv\n",
            "AaetWkpP\n",
            "YMQlcqU\n",
            "WQOSkr\n",
            "QkDLuEv\n",
            "NzWOJbV\n",
            "gmlcQi\n",
            "aOzRmUV\n",
            "osOeCAuZ\n",
            "MTEKNjI\n",
            "FSpcCbDq\n",
            "ixQRkt\n",
            "qytRMYp\n",
            "audeXE\n",
            "yvQNZCu\n",
            "dISqAp\n",
            "PIqpenJW\n",
            "kAUaqVb\n",
            "RuSTYXU\n",
            "cRUBoe\n",
            "DmMUau\n",
            "NleALy\n",
            "iSzAjQ\n",
            "FmKTrOMj\n",
            "mvhHaSt\n",
            "JDOBeRdZ\n",
            "clhOXojd\n",
            "NVqdHFZO\n",
            "NBFEqjck\n",
            "vHMbmDJ\n",
            "inDLUr\n",
            "iGXbxRY\n",
            "gIRYVjp\n",
            "WNmXJF\n",
            "WalJMyRe\n",
            "mbixAMz\n",
            "cMZGyQ\n",
            "HhmAkE\n",
            "lBVeUdh\n",
            "wRLdck\n",
            "IWEjep\n",
            "BoiGsMf\n",
            "liDUnqcp\n",
            "qZIpvV\n",
            "SbEsKwQT\n",
            "dSNneQ\n",
            "mRCtXcEL\n",
            "lUADnyz\n",
            "tNpoYsJw\n",
            "bolhex\n",
            "ErjJPm\n",
            "CMrXmlku\n",
            "zCDmWG\n",
            "OvesGi\n",
            "XwybsGh\n",
            "dxPShkup\n",
            "TAQtgN\n",
            "qarGZLz\n",
            "FfKbWXU\n",
            "xegHBlV\n",
            "OLGJKzxS\n",
            "VKhqQGRi\n",
            "qxYgOuJ\n",
            "wDjWfec\n",
            "gLrVRWdC\n",
            "jYVkUNt\n",
            "rAylRVi\n",
            "bnfilT\n",
            "tmybgN\n",
            "DgMyTE\n",
            "lBVpHZg\n",
            "IyvWqS\n",
            "dFCkbvz\n",
            "ErawqonP\n",
            "NDGOdFim\n",
            "JIcVsb\n",
            "PpULKwZ\n",
            "uWNhijS\n",
            "pVYhSw\n",
            "jYyaEuZq\n",
            "qURjyQJf\n",
            "QWZicAP\n",
            "qCjmuDrN\n",
            "gfYGBUNX\n",
            "nOoLwR\n",
            "part ii\n",
            "601\n",
            "607\n",
            "613\n",
            "617\n",
            "619\n",
            "631\n",
            "641\n",
            "643\n",
            "647\n",
            "653\n",
            "659\n",
            "661\n",
            "673\n",
            "677\n",
            "683\n",
            "691\n",
            "701\n",
            "709\n",
            "719\n",
            "727\n",
            "733\n",
            "739\n",
            "743\n",
            "751\n",
            "757\n",
            "761\n",
            "769\n",
            "773\n",
            "787\n",
            "797\n",
            "part iii\n",
            "126\n",
            "189\n",
            "252\n",
            "315\n",
            "378\n",
            "441\n",
            "504\n",
            "567\n",
            "630\n",
            "693\n",
            "756\n",
            "819\n",
            "882\n",
            "945\n"
          ]
        }
      ]
    },
    {
      "cell_type": "markdown",
      "source": [
        "question 5"
      ],
      "metadata": {
        "id": "_1WZBEgZWnjl"
      }
    },
    {
      "cell_type": "code",
      "source": [
        "import random as r\n",
        "import string as s\n",
        "S=range(10,31)\n",
        "A=r.sample(S,10)\n",
        "B=r.sample(S,10)\n",
        "\n",
        "for i in A:\n",
        "  f=0\n",
        "  for j in B:\n",
        "    if i==j:\n",
        "      print(i,' is common')\n",
        "\n",
        "\n",
        "for i in A:\n",
        "  f=0\n",
        "  for j in B:\n",
        "    if i==j:\n",
        "      f=1\n",
        "  if f==0:\n",
        "    print(i,' is unique')\n",
        "try:\n",
        "    del max\n",
        "except:\n",
        "    pass\n",
        "\n",
        "if max(A)>max(B):\n",
        "  print('max value is of A which is ',max(A))\n",
        "else:\n",
        "  print('the max value is of B which is ',max(B))\n",
        "\n",
        "try:\n",
        "  del min\n",
        "except:\n",
        "  pass\n",
        "if min(A)<min(B):\n",
        "  print('the minimum value is of A which is ',min(A))\n",
        "else:\n",
        "  print('the minimum value is of B which is ',min(B))\n",
        "C=A+B\n",
        "print(C)"
      ],
      "metadata": {
        "colab": {
          "base_uri": "https://localhost:8080/"
        },
        "id": "A2A6NskcWqGx",
        "outputId": "fc54827c-a0d1-4940-b966-8903b73202cf"
      },
      "execution_count": null,
      "outputs": [
        {
          "output_type": "stream",
          "name": "stdout",
          "text": [
            "20  is common\n",
            "17  is common\n",
            "12  is common\n",
            "26  is common\n",
            "29  is unique\n",
            "15  is unique\n",
            "30  is unique\n",
            "24  is unique\n",
            "19  is unique\n",
            "11  is unique\n",
            "max value is of A which is  30\n",
            "the minimum value is of B which is  10\n",
            "[20, 29, 15, 30, 24, 17, 12, 19, 11, 26, 26, 16, 25, 10, 17, 21, 12, 27, 20, 13]\n"
          ]
        }
      ]
    },
    {
      "cell_type": "markdown",
      "source": [
        "question 6"
      ],
      "metadata": {
        "id": "3MkI0QLZg4K_"
      }
    },
    {
      "cell_type": "code",
      "source": [
        "import random as r\n",
        "S=range(100,901)\n",
        "countodd=0\n",
        "counteven=0\n",
        "countprime=0\n",
        "A=r.sample(S,100)\n",
        "for i in A:\n",
        "  if not(i%2==0):\n",
        "    print('odd numbers are',i)\n",
        "    countodd=countodd+1\n",
        "print('number of odds are',countodd)\n",
        "for i in A:\n",
        "  if i%2==0:\n",
        "    print('even numbers are',i)\n",
        "    counteven=counteven+1\n",
        "print('number of even are',counteven)\n",
        "\n",
        "\n",
        "for i in A:\n",
        "  f=0\n",
        "  for j in range(2,i//2 + 1):\n",
        "    if i%j==0:\n",
        "      f=1\n",
        "  if f==0:\n",
        "    print(i)\n",
        "    countprime=countprime+1\n",
        "print('the number of primes are',countprime)"
      ],
      "metadata": {
        "colab": {
          "base_uri": "https://localhost:8080/"
        },
        "id": "nlnTf_Qvg6F1",
        "outputId": "2c5dd735-5290-4e8e-a293-682d7b4ec7b5"
      },
      "execution_count": null,
      "outputs": [
        {
          "output_type": "stream",
          "name": "stdout",
          "text": [
            "odd numbers are 737\n",
            "odd numbers are 501\n",
            "odd numbers are 607\n",
            "odd numbers are 757\n",
            "odd numbers are 237\n",
            "odd numbers are 413\n",
            "odd numbers are 317\n",
            "odd numbers are 655\n",
            "odd numbers are 541\n",
            "odd numbers are 897\n",
            "odd numbers are 131\n",
            "odd numbers are 229\n",
            "odd numbers are 505\n",
            "odd numbers are 639\n",
            "odd numbers are 103\n",
            "odd numbers are 509\n",
            "odd numbers are 591\n",
            "odd numbers are 713\n",
            "odd numbers are 547\n",
            "odd numbers are 377\n",
            "odd numbers are 539\n",
            "odd numbers are 445\n",
            "odd numbers are 207\n",
            "odd numbers are 899\n",
            "odd numbers are 423\n",
            "odd numbers are 247\n",
            "odd numbers are 139\n",
            "odd numbers are 893\n",
            "odd numbers are 641\n",
            "odd numbers are 519\n",
            "odd numbers are 835\n",
            "odd numbers are 343\n",
            "odd numbers are 803\n",
            "odd numbers are 333\n",
            "odd numbers are 489\n",
            "odd numbers are 277\n",
            "odd numbers are 253\n",
            "odd numbers are 155\n",
            "odd numbers are 383\n",
            "odd numbers are 389\n",
            "odd numbers are 813\n",
            "odd numbers are 645\n",
            "odd numbers are 511\n",
            "odd numbers are 111\n",
            "odd numbers are 743\n",
            "odd numbers are 257\n",
            "odd numbers are 223\n",
            "odd numbers are 349\n",
            "odd numbers are 293\n",
            "odd numbers are 837\n",
            "odd numbers are 373\n",
            "odd numbers are 565\n",
            "odd numbers are 587\n",
            "odd numbers are 523\n",
            "odd numbers are 151\n",
            "odd numbers are 611\n",
            "number of odds are 56\n",
            "even numbers are 390\n",
            "even numbers are 444\n",
            "even numbers are 386\n",
            "even numbers are 576\n",
            "even numbers are 672\n",
            "even numbers are 722\n",
            "even numbers are 590\n",
            "even numbers are 206\n",
            "even numbers are 430\n",
            "even numbers are 204\n",
            "even numbers are 844\n",
            "even numbers are 664\n",
            "even numbers are 158\n",
            "even numbers are 202\n",
            "even numbers are 448\n",
            "even numbers are 384\n",
            "even numbers are 102\n",
            "even numbers are 870\n",
            "even numbers are 810\n",
            "even numbers are 228\n",
            "even numbers are 578\n",
            "even numbers are 368\n",
            "even numbers are 862\n",
            "even numbers are 412\n",
            "even numbers are 270\n",
            "even numbers are 560\n",
            "even numbers are 790\n",
            "even numbers are 660\n",
            "even numbers are 800\n",
            "even numbers are 476\n",
            "even numbers are 346\n",
            "even numbers are 522\n",
            "even numbers are 416\n",
            "even numbers are 214\n",
            "even numbers are 124\n",
            "even numbers are 498\n",
            "even numbers are 818\n",
            "even numbers are 378\n",
            "even numbers are 164\n",
            "even numbers are 372\n",
            "even numbers are 170\n",
            "even numbers are 616\n",
            "even numbers are 884\n",
            "even numbers are 342\n",
            "number of even are 44\n",
            "607\n",
            "757\n",
            "317\n",
            "541\n",
            "131\n",
            "229\n",
            "103\n",
            "509\n",
            "547\n",
            "139\n",
            "641\n",
            "277\n",
            "383\n",
            "389\n",
            "743\n",
            "257\n",
            "223\n",
            "349\n",
            "293\n",
            "373\n",
            "587\n",
            "523\n",
            "151\n",
            "the number of primes are 23\n"
          ]
        }
      ]
    },
    {
      "cell_type": "markdown",
      "source": [
        "question 7\n"
      ],
      "metadata": {
        "id": "YkReFL__tGt-"
      }
    },
    {
      "cell_type": "code",
      "source": [
        "import pandas as pd\n",
        "D={1:'one',2:'two',3:'three',4:'four',5:'five'}\n",
        "pd.Series(D)\n"
      ],
      "metadata": {
        "colab": {
          "base_uri": "https://localhost:8080/",
          "height": 241
        },
        "id": "HTvOflYJtIRN",
        "outputId": "0cbd19e5-9407-4a1a-d4ee-463e02958c4f"
      },
      "execution_count": 1,
      "outputs": [
        {
          "output_type": "execute_result",
          "data": {
            "text/plain": [
              "1      one\n",
              "2      two\n",
              "3    three\n",
              "4     four\n",
              "5     five\n",
              "dtype: object"
            ],
            "text/html": [
              "<div>\n",
              "<style scoped>\n",
              "    .dataframe tbody tr th:only-of-type {\n",
              "        vertical-align: middle;\n",
              "    }\n",
              "\n",
              "    .dataframe tbody tr th {\n",
              "        vertical-align: top;\n",
              "    }\n",
              "\n",
              "    .dataframe thead th {\n",
              "        text-align: right;\n",
              "    }\n",
              "</style>\n",
              "<table border=\"1\" class=\"dataframe\">\n",
              "  <thead>\n",
              "    <tr style=\"text-align: right;\">\n",
              "      <th></th>\n",
              "      <th>0</th>\n",
              "    </tr>\n",
              "  </thead>\n",
              "  <tbody>\n",
              "    <tr>\n",
              "      <th>1</th>\n",
              "      <td>one</td>\n",
              "    </tr>\n",
              "    <tr>\n",
              "      <th>2</th>\n",
              "      <td>two</td>\n",
              "    </tr>\n",
              "    <tr>\n",
              "      <th>3</th>\n",
              "      <td>three</td>\n",
              "    </tr>\n",
              "    <tr>\n",
              "      <th>4</th>\n",
              "      <td>four</td>\n",
              "    </tr>\n",
              "    <tr>\n",
              "      <th>5</th>\n",
              "      <td>five</td>\n",
              "    </tr>\n",
              "  </tbody>\n",
              "</table>\n",
              "</div><br><label><b>dtype:</b> object</label>"
            ]
          },
          "metadata": {},
          "execution_count": 1
        }
      ]
    },
    {
      "cell_type": "markdown",
      "source": [
        "question 8"
      ],
      "metadata": {
        "id": "66fie3q5t8CY"
      }
    },
    {
      "cell_type": "code",
      "source": [
        "L=['one','two','three','four','five']\n",
        "for i in L:\n",
        "  print(i,',',len(i))"
      ],
      "metadata": {
        "colab": {
          "base_uri": "https://localhost:8080/"
        },
        "id": "unGYk78At9iE",
        "outputId": "4023c7e5-e7ea-43f9-cbe7-70a0a7bbdc0a"
      },
      "execution_count": null,
      "outputs": [
        {
          "output_type": "stream",
          "name": "stdout",
          "text": [
            "one , 3\n",
            "two , 3\n",
            "three , 5\n",
            "four , 4\n",
            "five , 4\n"
          ]
        }
      ]
    },
    {
      "cell_type": "markdown",
      "source": [
        "question 9"
      ],
      "metadata": {
        "id": "M6qgoUb8ubIP"
      }
    },
    {
      "cell_type": "code",
      "source": [
        "import random as r\n",
        "import string as s\n",
        "fp=open('sac','w')\n",
        "for i in range(1,101):\n",
        "  c=r.randint(10, 15)\n",
        "  a=\"\".join(r.sample(s.ascii_letters,c))\n",
        "  fp.write(a+'\\n')\n"
      ],
      "metadata": {
        "id": "F7oVwcZIudNI"
      },
      "execution_count": null,
      "outputs": []
    },
    {
      "cell_type": "markdown",
      "source": [
        "question 10"
      ],
      "metadata": {
        "id": "s7z6rVrbxJ9Z"
      }
    },
    {
      "cell_type": "code",
      "source": [
        "fp=open('prime','w')\n",
        "for i in range(600,801):\n",
        "  f=0\n",
        "  for j in range(2,i//2 + 1):\n",
        "    if i%j==0:\n",
        "      f=1\n",
        "  if f==0:\n",
        "    fp.write(str(i)+'\\n')\n"
      ],
      "metadata": {
        "id": "qAhDy5uwuQo7"
      },
      "execution_count": null,
      "outputs": []
    },
    {
      "cell_type": "markdown",
      "source": [
        "question 11"
      ],
      "metadata": {
        "id": "wQrqeCyiyu3S"
      }
    },
    {
      "cell_type": "code",
      "source": [
        "import time as t\n",
        "start=t.time()\n",
        "\n",
        "S1=set([10,20,30,40,50,60])\n",
        "S2=set([40,50,60,70,80,90])\n",
        "S1.add(55)\n",
        "S1.add(66)\n",
        "print(S1)\n",
        "S1.remove(10)\n",
        "S1.remove(30)\n",
        "print(S1)\n",
        "print(\"the union\",S1.union(S2))\n",
        "print('the intersection',S1.intersection(S2))\n",
        "print('S1-S2',S1-S2)\n",
        "\n",
        "end=t.time()\n",
        "\n",
        "final=end-start\n",
        "\n",
        "print('the time taken= ',final)\n"
      ],
      "metadata": {
        "colab": {
          "base_uri": "https://localhost:8080/"
        },
        "id": "j-awRQMIyuoP",
        "outputId": "61cd4482-9305-434e-cd4f-8237fc82a85d"
      },
      "execution_count": null,
      "outputs": [
        {
          "output_type": "stream",
          "name": "stdout",
          "text": [
            "{66, 40, 10, 50, 20, 55, 60, 30}\n",
            "{66, 40, 50, 20, 55, 60}\n",
            "the union {66, 70, 40, 80, 50, 20, 55, 90, 60}\n",
            "the intersection {40, 50, 60}\n",
            "S1-S2 {66, 20, 55}\n",
            "the time taken=  0.0004818439483642578\n"
          ]
        }
      ]
    },
    {
      "cell_type": "markdown",
      "source": [
        "qustion 13"
      ],
      "metadata": {
        "id": "P6NGQOw5z1YH"
      }
    },
    {
      "cell_type": "code",
      "source": [
        "D={'maths':0,'phy':0,'chem':0,'prog':0,'env':0}\n",
        "D['maths']=int(input('entre marks of maths '))\n",
        "D['phy']=int(input('entre marks of phy '))\n",
        "D['chem']=int(input('entre marks of chem '))\n",
        "D['prog']=int(input('entre marks of prog '))\n",
        "D['env']=int(input('entre marks of env '))\n",
        "print(D)\n",
        "\n",
        "print('max marks is', max(D.values()))\n",
        "print('min marks is',min(D.values()))\n",
        "print('avrage is', sum(D.values())/len(D))"
      ],
      "metadata": {
        "colab": {
          "base_uri": "https://localhost:8080/"
        },
        "id": "Z23oTA7Pz05c",
        "outputId": "70154ee2-2463-4d56-e16b-6496fcba4812"
      },
      "execution_count": null,
      "outputs": [
        {
          "output_type": "stream",
          "name": "stdout",
          "text": [
            "entre marks of maths 55\n",
            "entre marks of phy 666\n",
            "entre marks of chem 444\n",
            "entre marks of prog 333\n",
            "entre marks of env 444\n",
            "{'maths': 55, 'phy': 666, 'chem': 444, 'prog': 333, 'env': 444}\n",
            "max marks is 666\n",
            "min marks is 55\n",
            "avrage is 388.4\n"
          ]
        }
      ]
    }
  ]
}